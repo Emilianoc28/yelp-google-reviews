{
 "cells": [
  {
   "cell_type": "markdown",
   "metadata": {},
   "source": [
    "# **Introducción al Proceso Preliminar de Extracción, Transformación y Carga (ETL)**  \n",
    "\n",
    "En este notebook, nuestro objetivo principal es iniciar un proceso ETL (Extracción, Transformación y Carga) extrayendo datos desde una carpeta en Google Drive. Estos datos servirán como base para análisis posteriores y la construcción del producto final según los requisitos del cliente.  \n",
    "\n",
    "Para lograrlo, utilizamos diversas bibliotecas que permiten una extracción eficiente y estructurada de la información, asegurando que los datos sean almacenados de manera organizada en Google Cloud Storage.  \n",
    "\n",
    "## **Estructura del Código**  \n",
    "\n",
    "El código sigue un enfoque modular, inspirado en el patrón **Model-View-Controller (MVC)**, y está dividido en las siguientes secciones:  \n",
    "\n",
    "- **Definición de la Función de Extracción de Datos**  \n",
    "  Implementa la lógica para obtener archivos JSON desde Google Drive y transferirlos a Google Cloud Storage, además de convertirlos al formato Parquet para facilitar su procesamiento.  \n",
    "\n",
    "- **Carga del Archivo de Utilidades**  \n",
    "  Se incluye un archivo de utilidades con funciones auxiliares que simplifican la integración de bibliotecas y la ejecución de tareas clave dentro del proceso ETL.  \n",
    "\n",
    "- **Visualización de Datos Procesados**  \n",
    "  Esta sección permite la interpretación y validación de los datos extraídos y transformados, facilitando su análisis posterior.  \n",
    "\n",
    "El objetivo es mantener el código limpio y eficiente, minimizando la cantidad de celdas y agregando comentarios detallados cuando sea necesario para mejorar la comprensión del proceso. 🚀\n"
   ]
  },
  {
   "cell_type": "markdown",
   "metadata": {},
   "source": [
    "## **Importación de librerías necesarias para extraer data**"
   ]
  },
  {
   "cell_type": "code",
   "execution_count": 5,
   "metadata": {},
   "outputs": [],
   "source": [
    "import importlib\n",
    "import os\n",
    "import utils as ut\n",
    "importlib.reload(ut)\n",
    "import pandas as pd\n"
   ]
  },
  {
   "cell_type": "markdown",
   "metadata": {},
   "source": [
    "# **1. Extracción de Datos**  \n",
    "\n",
    "Hemos definido una función que nos permite extraer los datos proporcionados por el cliente desde diferentes carpetas en Google Drive.  \n",
    "Esta función está alojada en el archivo de utilidades, el cual importamos desde `utils` como `ut`.  \n",
    "\n",
    "## **1.1 Extracción de datos desde la carpeta de Yelp**  \n",
    "\n",
    "- Creamos una variable llamada `drive_url`, donde almacenamos la URL de la carpeta en Google Drive.  \n",
    "- También definimos otra variable llamada `main_folder_path`, en la que guardamos la ruta de la carpeta que contiene los archivos originales.  \n"
   ]
  },
  {
   "cell_type": "code",
   "execution_count": 4,
   "metadata": {},
   "outputs": [
    {
     "name": "stderr",
     "output_type": "stream",
     "text": [
      "Retrieving folder contents\n"
     ]
    },
    {
     "name": "stdout",
     "output_type": "stream",
     "text": [
      "Processing file 1byFtzpZXopdCN-XYmMHMpZqzgAqfQBBu business.pkl\n",
      "Processing file 1e27q1-_ecuzGjFC1gtRXoYcZqv1NBie1 checkin.json\n",
      "Processing file 1mwNNdOMSNty6WumYdH9FJNJZJYQ6oD1c review.json\n",
      "Processing file 16I4fnJgOISvOK_ePN-BQ8dQbxtep9_8m tip.json\n",
      "Processing file 1TT4ARRIV6i2fO1b5yb0aSUkjhxMb9u6g user.parquet\n"
     ]
    },
    {
     "name": "stderr",
     "output_type": "stream",
     "text": [
      "Retrieving folder contents completed\n",
      "Building directory structure\n",
      "Building directory structure completed\n",
      "Downloading...\n",
      "From (original): https://drive.google.com/uc?id=1byFtzpZXopdCN-XYmMHMpZqzgAqfQBBu\n",
      "From (redirected): https://drive.google.com/uc?id=1byFtzpZXopdCN-XYmMHMpZqzgAqfQBBu&confirm=t&uuid=6afda8b9-af67-4493-8127-70fb6cd5ae42\n",
      "To: c:\\Users\\Lenovo\\Sergio\\yelp-google-reviews\\data\\business.pkl\n",
      "100%|██████████| 116M/116M [00:04<00:00, 28.0MB/s] \n",
      "Downloading...\n",
      "From (original): https://drive.google.com/uc?id=1e27q1-_ecuzGjFC1gtRXoYcZqv1NBie1\n",
      "From (redirected): https://drive.google.com/uc?id=1e27q1-_ecuzGjFC1gtRXoYcZqv1NBie1&confirm=t&uuid=8b3f7600-a096-4222-995f-12772f4ab4dd\n",
      "To: c:\\Users\\Lenovo\\Sergio\\yelp-google-reviews\\data\\checkin.json\n",
      "100%|██████████| 287M/287M [00:11<00:00, 24.3MB/s] \n",
      "Downloading...\n",
      "From (original): https://drive.google.com/uc?id=1mwNNdOMSNty6WumYdH9FJNJZJYQ6oD1c\n",
      "From (redirected): https://drive.google.com/uc?id=1mwNNdOMSNty6WumYdH9FJNJZJYQ6oD1c&confirm=t&uuid=2fdaf550-ea2c-4bd4-a40d-f68a54e662fd\n",
      "To: c:\\Users\\Lenovo\\Sergio\\yelp-google-reviews\\data\\review.json\n",
      "100%|██████████| 5.34G/5.34G [02:51<00:00, 31.2MB/s]\n",
      "Downloading...\n",
      "From (original): https://drive.google.com/uc?id=16I4fnJgOISvOK_ePN-BQ8dQbxtep9_8m\n",
      "From (redirected): https://drive.google.com/uc?id=16I4fnJgOISvOK_ePN-BQ8dQbxtep9_8m&confirm=t&uuid=ef8c37a7-8eb1-4877-ba9b-b88971050a8e\n",
      "To: c:\\Users\\Lenovo\\Sergio\\yelp-google-reviews\\data\\tip.json\n",
      "100%|██████████| 181M/181M [00:09<00:00, 19.1MB/s] \n",
      "Downloading...\n",
      "From (original): https://drive.google.com/uc?id=1TT4ARRIV6i2fO1b5yb0aSUkjhxMb9u6g\n",
      "From (redirected): https://drive.google.com/uc?id=1TT4ARRIV6i2fO1b5yb0aSUkjhxMb9u6g&confirm=t&uuid=6910ecd4-9a78-42bb-a048-5f743bf12db9\n",
      "To: c:\\Users\\Lenovo\\Sergio\\yelp-google-reviews\\data\\user.parquet\n",
      "100%|██████████| 2.95G/2.95G [01:21<00:00, 36.3MB/s]\n",
      "Download completed\n"
     ]
    },
    {
     "name": "stdout",
     "output_type": "stream",
     "text": [
      "Archivo ../data\\checkin.json convertido a Parquet y guardado como ../data\\checkin.parquet\n",
      "Archivo ../data\\review.json convertido a Parquet y guardado como ../data\\review.parquet\n",
      "Archivo ../data\\tip.json convertido a Parquet y guardado como ../data\\tip.parquet\n"
     ]
    }
   ],
   "source": [
    "drive_url='https://drive.google.com/drive/folders/1TI-SsMnZsNP6t930olEEWbBQdo_yuIZF'\n",
    "main_folder_path = '../data'\n",
    "\n",
    "# Call the function with the folder ID, destination folder, and credentials JSON file path\n",
    "ut.json_extract(drive_url, main_folder_path)"
   ]
  },
  {
   "cell_type": "markdown",
   "metadata": {},
   "source": [
    "\n",
    "\n",
    "## **1.2 Extracción de datos desde las carpetas 'metadata-sitios' y 'Review Estados'**  \n",
    "\n",
    "De la misma manera en que realizamos la extracción de datos desde la carpeta de **YELP**, guardaremos en variables la información correspondiente al **ID de la carpeta en Google Drive** y la **ruta de las carpetas donde se encuentran los datos originales**.  \n",
    "\n",
    "Este proceso garantizará que los datos sean almacenados de forma estructurada y listos para su procesamiento posterior.  \n"
   ]
  }
 ],
 "metadata": {
  "kernelspec": {
   "display_name": "Python 3",
   "language": "python",
   "name": "python3"
  },
  "language_info": {
   "codemirror_mode": {
    "name": "ipython",
    "version": 3
   },
   "file_extension": ".py",
   "mimetype": "text/x-python",
   "name": "python",
   "nbconvert_exporter": "python",
   "pygments_lexer": "ipython3",
   "version": "3.12.6"
  }
 },
 "nbformat": 4,
 "nbformat_minor": 2
}
