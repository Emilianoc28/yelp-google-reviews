{
 "cells": [
  {
   "cell_type": "code",
   "execution_count": 4,
   "metadata": {},
   "outputs": [],
   "source": [
    "import pandas as pd\n",
    "\n",
    "# Cargar el CSV\n",
    "archivo_csv = r\"D:\\Soy Henry\\Proyecto Final\\metadata_top10.csv\"  # Asegurate de que el path sea correcto\n",
    "df = pd.read_csv(archivo_csv)\n",
    "\n",
    "# Convertir reseñas a texto en minúsculas\n",
    "df[\"category\"] = df[\"category\"].astype(str).str.lower()\n",
    "\n",
    "# Definir palabras clave relacionadas con comida\n",
    "food_keywords = {\"food\", \"restaurant\", \"eat\", \"menu\", \"drink\", \"dish\", \"delicious\", \"taco\", \"boba\", \"meal\", \"dining\", \"cuisine\", \"flavor\"}\n",
    "\n",
    "# Filtrar los lugares que contienen al menos una palabra clave en las reseñas\n",
    "df = df[df[\"category\"].apply(lambda x: any(word in x for word in food_keywords))]\n",
    "\n"
   ]
  },
  {
   "cell_type": "code",
   "execution_count": 7,
   "metadata": {},
   "outputs": [
    {
     "name": "stderr",
     "output_type": "stream",
     "text": [
      "C:\\Users\\calde\\AppData\\Local\\Temp\\ipykernel_8620\\2582738527.py:22: DeprecationWarning: DataFrameGroupBy.apply operated on the grouping columns. This behavior is deprecated, and in a future version of pandas the grouping columns will be excluded from the operation. Either pass `include_groups=False` to exclude the groupings or explicitly select the grouping columns after groupby to silence this warning.\n",
      "  top_10_ciudad = df.groupby(\"city\", group_keys=False).apply(lambda x: x.nlargest(10, \"num_of_reviews\"))\n"
     ]
    },
    {
     "name": "stdout",
     "output_type": "stream",
     "text": [
      "✅ CSV con Top 10 restaurantes por ciudad y coordenadas guardado.\n"
     ]
    }
   ],
   "source": [
    "import pandas as pd\n",
    "from geopy.geocoders import Nominatim\n",
    "from geopy.exc import GeocoderTimedOut\n",
    "\n",
    "# Cargar el CSV\n",
    "archivo_csv = \"D:/Soy Henry/Proyecto Final/metadata_top10.csv\"  # Cambia esto si es necesario\n",
    "df = pd.read_csv(archivo_csv)\n",
    "\n",
    "# Filtrar lugares de comida usando palabras clave en la columna de reseñas\n",
    "palabras_clave = {\"food\", \"restaurant\", \"eat\", \"menu\", \"drink\", \"dish\", \"delicious\", \"taco\", \"boba\", \"meal\", \"dining\", \"cuisine\", \"flavor\"}\n",
    "df[\"is_food\"] = df[\"category\"].astype(str).apply(lambda x: any(word in x.lower() for word in palabras_clave))\n",
    "df = df[df[\"is_food\"]]\n",
    "\n",
    "# Eliminar duplicados y valores nulos esenciales\n",
    "df = df.drop_duplicates()\n",
    "df = df.dropna(subset=[\"address\", \"avg_rating\", \"num_of_reviews\"])\n",
    "\n",
    "# Asegurar que num_of_reviews es numérico\n",
    "df[\"num_of_reviews\"] = pd.to_numeric(df[\"num_of_reviews\"], errors=\"coerce\")\n",
    "\n",
    "# Agrupar por ciudad y seleccionar el Top 10 de restaurantes\n",
    "top_10_ciudad = df.groupby(\"city\", group_keys=False).apply(lambda x: x.nlargest(10, \"num_of_reviews\"))\n",
    "\n",
    "# Inicializar geolocalizador\n",
    "geolocator = Nominatim(user_agent=\"restaurant_locator\")\n",
    "\n",
    "# Función para obtener coordenadas\n",
    "def obtener_coordenadas(direccion):\n",
    "    try:\n",
    "        ubicacion = geolocator.geocode(direccion, timeout=10)\n",
    "        if ubicacion:\n",
    "            return pd.Series([ubicacion.latitude, ubicacion.longitude])\n",
    "    except GeocoderTimedOut:\n",
    "        return pd.Series([None, None])\n",
    "    return pd.Series([None, None])\n",
    "\n",
    "# Aplicar la función a las direcciones\n",
    "top_10_ciudad[[\"latitude\", \"longitude\"]] = top_10_ciudad[\"address\"].apply(obtener_coordenadas)\n",
    "\n",
    "# Guardar el resultado en un nuevo CSV\n",
    "ruta_salida_csv = \"D:/Soy Henry/Proyecto Final/top10_ciudad.csv\"\n",
    "top_10_ciudad.to_csv(ruta_salida_csv, index=False, encoding=\"utf-8\")\n",
    "\n",
    "print(\"✅ CSV con Top 10 restaurantes por ciudad y coordenadas guardado.\")\n"
   ]
  }
 ],
 "metadata": {
  "kernelspec": {
   "display_name": "Python 3",
   "language": "python",
   "name": "python3"
  },
  "language_info": {
   "codemirror_mode": {
    "name": "ipython",
    "version": 3
   },
   "file_extension": ".py",
   "mimetype": "text/x-python",
   "name": "python",
   "nbconvert_exporter": "python",
   "pygments_lexer": "ipython3",
   "version": "3.12.1"
  }
 },
 "nbformat": 4,
 "nbformat_minor": 2
}
