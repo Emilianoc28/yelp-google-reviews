{
 "cells": [
  {
   "cell_type": "code",
   "execution_count": 4,
   "metadata": {},
   "outputs": [
    {
     "name": "stdout",
     "output_type": "stream",
     "text": [
      "Columnas disponibles: ['name', 'address', 'gmap_id', 'category', 'avg_rating', 'num_of_reviews', 'city', 'is_food', 'latitude', 'longitude']\n",
      "Valores nulos en 'city': 0\n",
      "Archivo limpio guardado correctamente.\n"
     ]
    }
   ],
   "source": [
    "import pandas as pd\n",
    "\n",
    "# Ruta del archivo CSV\n",
    "archivo_csv = r\"D:\\Soy Henry\\Proyecto Final\\yelp-google-reviews\\Sprint_Nro3\\Deployment_final_modelo_ML\\ML2\\data_example\\top10_ciudad_ML2.csv\"\n",
    "\n",
    "# Cargar el CSV asegurando que los valores vacíos se interpreten correctamente\n",
    "df = pd.read_csv(archivo_csv, dtype=str)  # Cargar todo como string para evitar errores\n",
    "\n",
    "# Verificar columnas disponibles\n",
    "print(\"Columnas disponibles:\", df.columns.tolist())\n",
    "\n",
    "# Verificar si 'city' tiene valores vacíos\n",
    "print(\"Valores nulos en 'city':\", df[\"city\"].isna().sum())\n",
    "\n",
    "# Eliminar espacios en los nombres de columnas\n",
    "df.columns = df.columns.str.strip()\n",
    "\n",
    "# Si 'city' no existe, mostrar los nombres de las columnas\n",
    "if \"city\" not in df.columns:\n",
    "    raise KeyError(\"La columna 'city' no se encuentra en el DataFrame. Verifica el CSV.\")\n",
    "\n",
    "# Limpieza de 'city'\n",
    "df[\"city\"] = df[\"city\"].astype(str).str.strip()  # Eliminar espacios en blanco\n",
    "df = df.dropna(subset=[\"city\"])  # Eliminar filas con valores nulos en city\n",
    "df[\"city\"] = df[\"city\"].str.title()  # Convertir a formato título\n",
    "\n",
    "# Guardar el dataset limpio\n",
    "df.to_csv(archivo_csv, index=False, encoding=\"utf-8\")\n",
    "\n",
    "print(\"Archivo limpio guardado correctamente.\")\n"
   ]
  },
  {
   "cell_type": "code",
   "execution_count": null,
   "metadata": {},
   "outputs": [],
   "source": []
  }
 ],
 "metadata": {
  "kernelspec": {
   "display_name": "Python 3",
   "language": "python",
   "name": "python3"
  },
  "language_info": {
   "codemirror_mode": {
    "name": "ipython",
    "version": 3
   },
   "file_extension": ".py",
   "mimetype": "text/x-python",
   "name": "python",
   "nbconvert_exporter": "python",
   "pygments_lexer": "ipython3",
   "version": "3.12.1"
  }
 },
 "nbformat": 4,
 "nbformat_minor": 2
}
