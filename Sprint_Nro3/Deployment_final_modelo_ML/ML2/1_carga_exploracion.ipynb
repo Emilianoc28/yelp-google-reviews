{
 "cells": [
  {
   "cell_type": "markdown",
   "metadata": {},
   "source": [
    "Paso 1: Explorar los Datos\n",
    "Primero, necesitamos revisar la estructura de reviews_gm_cleaned.csv y metadata_cleaned.csv."
   ]
  },
  {
   "cell_type": "code",
   "execution_count": 1,
   "metadata": {},
   "outputs": [
    {
     "name": "stdout",
     "output_type": "stream",
     "text": [
      "📌 Estructura de reviews_gm_cleaned.csv\n",
      "   rating                                              text year_month  \\\n",
      "0       5                      Love there korean rice cake.    2021-01   \n",
      "1       5                                    Good very good    2021-02   \n",
      "2       4  They make Korean traditional food very properly.    2020-03   \n",
      "3       5                    Short ribs are very delicious.    2019-03   \n",
      "4       5      Great food and prices the portions are large    2017-05   \n",
      "\n",
      "                                 gmap_id  \n",
      "0  0x80c2c778e3b73d33:0xbdc58662a4a97d49  \n",
      "1  0x80c2c778e3b73d33:0xbdc58662a4a97d49  \n",
      "2  0x80c2c778e3b73d33:0xbdc58662a4a97d49  \n",
      "3  0x80c2c778e3b73d33:0xbdc58662a4a97d49  \n",
      "4  0x80c2c778e3b73d33:0xbdc58662a4a97d49  \n",
      "\n",
      "📌 Estructura de metadata_clean.csv\n",
      "               name                                            address  \\\n",
      "0   Porter Pharmacy  Porter Pharmacy, 129 N Second St, Cochran, GA ...   \n",
      "1      City Textile  City Textile, 3001 E Pico Blvd, Los Angeles, C...   \n",
      "2      San Soo Dang  San Soo Dang, 761 S Vermont Ave, Los Angeles, ...   \n",
      "3      Nova Fabrics  Nova Fabrics, 2200 E 11th St, Los Angeles, CA ...   \n",
      "4  Nobel Textile Co  Nobel Textile Co, 719 E 9th St, Los Angeles, C...   \n",
      "\n",
      "                                 gmap_id           category  avg_rating  \\\n",
      "0  0x88f16e41928ff687:0x883dad4fd048e8f8           Pharmacy         4.9   \n",
      "1  0x80c2c98c0e3c16fd:0x29ec8a728764fdf9   Textile exporter         4.5   \n",
      "2  0x80c2c778e3b73d33:0xbdc58662a4a97d49  Korean restaurant         4.4   \n",
      "3   0x80c2c89923b27a41:0x32041559418d447       Fabric store         3.3   \n",
      "4  0x80c2c632f933b073:0xc31785961fe826a6       Fabric store         4.3   \n",
      "\n",
      "   num_of_reviews                                               MISC  \n",
      "0              16  In-store shopping, Same-day delivery, Mask req...  \n",
      "1               6                                                NaN  \n",
      "2              18  Takeout, Dine-in, Delivery, Wheelchair accessi...  \n",
      "3               6  In-store shopping, Checks, Debit cards, Credit...  \n",
      "4               7                                    In-store pickup  \n",
      "\n",
      "📌 Columnas de reviews_gm_cleaned: Index(['rating', 'text', 'year_month', 'gmap_id'], dtype='object')\n",
      "\n",
      "📌 Columnas de metadata_clean: Index(['name', 'address', 'gmap_id', 'category', 'avg_rating',\n",
      "       'num_of_reviews', 'MISC'],\n",
      "      dtype='object')\n"
     ]
    }
   ],
   "source": [
    "import pandas as pd\n",
    "\n",
    "# Cargar los datasets\n",
    "path_reviews = r\"D:\\Soy Henry\\Proyecto Final\\reviews_gm_cleaned.csv\"\n",
    "path_metadata = r\"D:\\Soy Henry\\Proyecto Final\\metadata_clean.csv\"\n",
    "\n",
    "df_reviews = pd.read_csv(path_reviews)\n",
    "df_metadata = pd.read_csv(path_metadata)\n",
    "\n",
    "# Mostrar las primeras filas de cada dataset\n",
    "print(\"📌 Estructura de reviews_gm_cleaned.csv\")\n",
    "print(df_reviews.head())\n",
    "\n",
    "print(\"\\n📌 Estructura de metadata_clean.csv\")\n",
    "print(df_metadata.head())\n",
    "\n",
    "# Ver las columnas disponibles\n",
    "print(\"\\n📌 Columnas de reviews_gm_cleaned:\", df_reviews.columns)\n",
    "print(\"\\n📌 Columnas de metadata_clean:\", df_metadata.columns)\n"
   ]
  }
 ],
 "metadata": {
  "kernelspec": {
   "display_name": "Python 3",
   "language": "python",
   "name": "python3"
  },
  "language_info": {
   "codemirror_mode": {
    "name": "ipython",
    "version": 3
   },
   "file_extension": ".py",
   "mimetype": "text/x-python",
   "name": "python",
   "nbconvert_exporter": "python",
   "pygments_lexer": "ipython3",
   "version": "3.12.1"
  }
 },
 "nbformat": 4,
 "nbformat_minor": 2
}
