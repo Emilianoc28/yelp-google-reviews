{
 "cells": [
  {
   "cell_type": "code",
   "execution_count": null,
   "execution_count": 2,
   "metadata": {},
   "outputs": [],
   "source": [
    "import pandas as pd\n",
    "import numpy as numpy\n",
    "import json\n",
    "import os\n",
    "from pandas import json_normalize\n"
   ]
  },
  {
   "cell_type": "code",
   "execution_count": 6,
   "metadata": {},
   "outputs": [
    {
     "name": "stdout",
     "output_type": "stream",
     "text": [
      "<class 'list'>\n",
      "[\n",
      "    {\n",
      "        \"review_id\": \"KU_O5udG6zpxOg-VcAEodg\",\n",
      "        \"user_id\": \"mh_-eMZ6K5RLWhZyISBhwA\",\n",
      "        \"business_id\": \"XQfwVwDr-v0ZS3_CbbE5Xw\",\n",
      "        \"stars\": 3.0,\n",
      "        \"useful\": 0,\n",
      "        \"funny\": 0,\n",
      "        \"cool\": 0,\n",
      "        \"text\": \"If you decide to eat here, just be aware it is going to take about 2 hours from beginning to end. We have tried it multiple times, because I want to like it! I have been to it's other locations in NJ and never had a bad experience. \\n\\nThe food is good, but it takes a very long time to come out. The waitstaff is very young, but usually pleasant. We have just had too many experiences where we spent way too long waiting. We usually opt for another diner or restaurant on the weekends, in order to be done quicker.\",\n",
      "        \"date\": \"2018-07-07 22:09:11\"\n",
      "    },\n",
      "    {\n",
      "        \"review_id\": \"BiTunyQ73aT9WBnpR9DZGw\",\n",
      "        \"user_id\": \"OyoGAe7OKpv6SyGZT5g77Q\",\n",
      "        \"business_id\": \"7ATYjTIgM3jUlt4UM3IypQ\",\n",
      "        \"stars\": 5.0,\n",
      "        \"useful\": 1,\n",
      "        \"funny\": 0,\n",
      "        \"cool\": 1,\n",
      "        \"text\": \"I've taken a lot of spin classes over the years, and nothing compares to the classes at Body Cycle. From the nice, clean space and amazing bikes, to the welcoming and motivating instructors, every class is a top notch work out.\\n\\nFor anyone who struggles to fit workouts in, the online scheduling system makes it easy to plan ahead (and there's no need to line up way in advanced like many gyms make you do).\\n\\nThere is no way I can write this review without giving Russell, the owner of Body Cycle, a shout out. Russell's passion for fitness and cycling is so evident, as is his desire for all of his clients to succeed. He is always dropping in to classes to check in/provide encouragement, and is open to ideas and recommendations from anyone. Russell always wears a smile on his face, even when he's kicking your butt in class!\",\n",
      "        \"date\": \"2012-01-03 15:28:18\"\n",
      "    }\n",
      "]\n"
     ]
    }
   ],
   "source": [
    "with open(\"review-001.json\", \"r\", encoding=\"utf-8\") as f:\n",
    "    data = [json.loads(line) for line in f]  # Cargar cada línea como JSON\n",
    "\n",
    "print(type(data))  # Debería ser una lista\n",
    "print(json.dumps(data[:2], indent=4))  # Muestra las dos primeras filas formateadas"
   ]
  },
  {
   "cell_type": "code",
   "execution_count": 7,
   "metadata": {},
   "outputs": [
    {
     "name": "stdout",
     "output_type": "stream",
     "text": [
      "                review_id                 user_id             business_id  \\\n",
      "0  KU_O5udG6zpxOg-VcAEodg  mh_-eMZ6K5RLWhZyISBhwA  XQfwVwDr-v0ZS3_CbbE5Xw   \n",
      "1  BiTunyQ73aT9WBnpR9DZGw  OyoGAe7OKpv6SyGZT5g77Q  7ATYjTIgM3jUlt4UM3IypQ   \n",
      "2  saUsX_uimxRlCVr67Z4Jig  8g_iMtfSiwikVnbP2etR0A  YjUWPpI6HXG530lwP-fb2A   \n",
      "3  AqPFMleE6RsU23_auESxiA  _7bHUi9Uuf5__HHc_Q8guQ  kxX2SOes4o-D3ZQBkiMRfA   \n",
      "4  Sx8TMOWLNuJBWer-0pcmoA  bcjbaE6dDog4jkNY91ncLQ  e4Vwtrqf-wpJfwesgvdgxQ   \n",
      "\n",
      "   stars  useful  funny  cool  \\\n",
      "0    3.0       0      0     0   \n",
      "1    5.0       1      0     1   \n",
      "2    3.0       0      0     0   \n",
      "3    5.0       1      0     1   \n",
      "4    4.0       1      0     1   \n",
      "\n",
      "                                                text                 date  \n",
      "0  If you decide to eat here, just be aware it is...  2018-07-07 22:09:11  \n",
      "1  I've taken a lot of spin classes over the year...  2012-01-03 15:28:18  \n",
      "2  Family diner. Had the buffet. Eclectic assortm...  2014-02-05 20:30:30  \n",
      "3  Wow!  Yummy, different,  delicious.   Our favo...  2015-01-04 00:01:03  \n",
      "4  Cute interior and owner (?) gave us tour of up...  2017-01-14 20:54:15  \n"
     ]
    }
   ],
   "source": [
    "\n",
    "# Si el JSON es una lista de diccionarios\n",
    "if isinstance(data, list):\n",
    "    df = pd.DataFrame(data)\n",
    "elif isinstance(data, dict):\n",
    "    df = json_normalize(data)\n",
    "\n",
    "print(df.head())"
   ]
  }
 ],
 "metadata": {
  "kernelspec": {
   "display_name": "end",
   "language": "python",
   "name": "python3"
  },
  "language_info": {
   "codemirror_mode": {
    "name": "ipython",
    "version": 3
   },
   "file_extension": ".py",
   "mimetype": "text/x-python",
   "name": "python",
   "nbconvert_exporter": "python",
   "pygments_lexer": "ipython3",
   "version": "3.13.1"
  }
 },
 "nbformat": 4,
 "nbformat_minor": 2
}
